{
 "cells": [
  {
   "cell_type": "code",
   "execution_count": null,
   "metadata": {},
   "outputs": [],
   "source": [
    "import numpy as np\n",
    "class Perceptron(object):\n",
    "    \"\"\"\n",
    "    eta: learning rate\n",
    "    n_iter: iteration time\n",
    "    w_: weight\n",
    "    errors_: time of error\n",
    "    \"\"\"\n",
    "    def __int__(self, eta = 0.01, n_iter=10):\n",
    "        self.eta = eta;\n",
    "        self.n_iter = n_iter\n",
    "        pass\n",
    "    def fit(self, X, y):\n",
    "        \"\"\"\n",
    "        input train set, train NN, x vector, y class\n",
    "        \n",
    "        X:shape[n_samples, n_features]\n",
    "        for X: [[1,2,3],[4,5,6]]\n",
    "        n_samples = 2, n_features = 3\n",
    "        \n",
    "        y:[1,-1]\n",
    "        \"\"\"\n",
    "        \n",
    "        \"\"\"\n",
    "        initial w = 0\n",
    "        \"\"\"\n",
    "        self.w_ = np.zero(1 + X.shape[1])\n",
    "        self.error_ = []\n",
    "        \n",
    "        for _ in range(self.n_iter):\n",
    "            errors = 0\n",
    "            for xi, target in zip(X,y):\n",
    "                update = self.eta * (target - self.predict(xi))\n",
    "                self.w_[1:] += update * xi\n",
    "            pass\n",
    "        pass"
   ]
  }
 ],
 "metadata": {
  "kernelspec": {
   "display_name": "Python 3",
   "language": "python",
   "name": "python3"
  },
  "language_info": {
   "codemirror_mode": {
    "name": "ipython",
    "version": 3
   },
   "file_extension": ".py",
   "mimetype": "text/x-python",
   "name": "python",
   "nbconvert_exporter": "python",
   "pygments_lexer": "ipython3",
   "version": "3.6.4"
  }
 },
 "nbformat": 4,
 "nbformat_minor": 2
}
